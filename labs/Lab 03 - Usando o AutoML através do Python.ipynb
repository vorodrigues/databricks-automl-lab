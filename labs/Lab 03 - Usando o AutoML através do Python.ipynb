{
 "cells": [
  {
   "cell_type": "markdown",
   "metadata": {
    "application/vnd.databricks.v1+cell": {
     "cellMetadata": {},
     "inputWidgets": {},
     "nuid": "c1b266c3-f261-4d2d-9bbe-efbf5d8cdd5e",
     "showTitle": false,
     "tableResultSettingsMap": {},
     "title": ""
    }
   },
   "source": [
    "![](https://github.com/vorodrigues/databricks-automl-lab/blob/main/img/header-automl.png?raw=true)"
   ]
  },
  {
   "cell_type": "markdown",
   "metadata": {
    "application/vnd.databricks.v1+cell": {
     "cellMetadata": {},
     "inputWidgets": {},
     "nuid": "d9f2b396-4173-46e2-89d5-e62fd2b21d9f",
     "showTitle": false,
     "tableResultSettingsMap": {},
     "title": ""
    }
   },
   "source": [
    "# Lab 03 - Usando o AutoML através do Python"
   ]
  },
  {
   "cell_type": "markdown",
   "metadata": {
    "application/vnd.databricks.v1+cell": {
     "cellMetadata": {},
     "inputWidgets": {},
     "nuid": "5d9c9cd1-10e8-42f1-a390-34ec7dfbb0eb",
     "showTitle": false,
     "tableResultSettingsMap": {},
     "title": ""
    }
   },
   "source": [
    "## Exercício 03.01 - Visualização dos Dados\n",
    "\n",
    "Nesse laboratório, vamos trabalhar com uma tabela:\n",
    "- **sales_monthly:** valores mensais de vendas agregados por produto e loja\n",
    "\n",
    "Vamos ver como são esses dados!"
   ]
  },
  {
   "cell_type": "markdown",
   "metadata": {
    "application/vnd.databricks.v1+cell": {
     "cellMetadata": {},
     "inputWidgets": {},
     "nuid": "8fdbb3bb-fd03-4412-8190-d13a28d064bb",
     "showTitle": false,
     "tableResultSettingsMap": {},
     "title": ""
    }
   },
   "source": [
    "Antes de tudo, vamos selecionar nosso banco de dados.\n",
    "\n",
    "Preencha o valor da variável `db` e execute a célula abaixo."
   ]
  },
  {
   "cell_type": "code",
   "execution_count": 0,
   "metadata": {
    "application/vnd.databricks.v1+cell": {
     "cellMetadata": {
      "byteLimit": 2048000,
      "rowLimit": 10000
     },
     "inputWidgets": {},
     "nuid": "4233cf3f-b922-4ecd-be39-e90ca684694c",
     "showTitle": false,
     "tableResultSettingsMap": {},
     "title": ""
    }
   },
   "outputs": [],
   "source": [
    "# TODO: Preencha o caminho do seu database abaixo\n",
    "db = 'meu_catalogo.meu_database'\n",
    "spark.sql(f'USE {db}')"
   ]
  },
  {
   "cell_type": "code",
   "execution_count": 0,
   "metadata": {
    "application/vnd.databricks.v1+cell": {
     "cellMetadata": {
      "byteLimit": 2048000,
      "implicitDf": true,
      "rowLimit": 10000
     },
     "inputWidgets": {},
     "nuid": "ef00e085-babc-49a0-9128-eb92550b245a",
     "showTitle": false,
     "tableResultSettingsMap": {},
     "title": ""
    }
   },
   "outputs": [],
   "source": [
    "%sql select * from sales_monthly"
   ]
  },
  {
   "cell_type": "markdown",
   "metadata": {
    "application/vnd.databricks.v1+cell": {
     "cellMetadata": {},
     "inputWidgets": {},
     "nuid": "d58afcc9-eb3c-4952-80b1-94aa3c986ffb",
     "showTitle": false,
     "tableResultSettingsMap": {},
     "title": ""
    }
   },
   "source": [
    "## Exercício 03.02 - Previsão das vendas nos próximos meses\n",
    "\n",
    "Dessa vez, já temos os dados preparados para serem utilizados na nossa previsão. Caso contrário, seria recomendado fazer a exploração e preparação dos dados, assim como fizemos nos exercícios anteriores.\n",
    "\n",
    "Para a nossa previsão, iremos utilizar o **Databricks AutoML** através da sua API para Python. Isso nos permite:\n",
    "- Criar agendamentos para executar previsões periodicamente\n",
    "- Parametrizar e modularizar execuções\n",
    "- Segmentar modelos por diferentes grupos de produtos, regiões, perfis de consumidor, etc...\n",
    "\n",
    "Siga os passos abaixo:\n",
    "- Na célula abaixo, preencha o valor da variável `name`\n",
    "- Execute a célula abaixo"
   ]
  },
  {
   "cell_type": "code",
   "execution_count": 0,
   "metadata": {
    "application/vnd.databricks.v1+cell": {
     "cellMetadata": {
      "byteLimit": 2048000,
      "rowLimit": 10000
     },
     "inputWidgets": {},
     "nuid": "49586f13-8cd0-4433-8a57-43351b9c42c4",
     "showTitle": false,
     "tableResultSettingsMap": {},
     "title": ""
    }
   },
   "outputs": [],
   "source": [
    "import databricks.automl\n",
    "from datetime import datetime\n",
    "\n",
    "# TODO: Preencha seu nome ou inicias abaixo\n",
    "name = '<meu_nome>'\n",
    "experiment_dir = '<meu_diretorio>'\n",
    "\n",
    "# Formata a data e hora atual\n",
    "now = datetime.now()\n",
    "formatted_date = now.strftime('%Y-%m-%d_%H-%M')\n",
    "\n",
    "# Crie um modelo com Databricks AutoML\n",
    "model = databricks.automl.forecast(\n",
    "  experiment_name=f\"{name} Sales Forecast {formatted_date}\",\n",
    "  dataset=f\"{db}.sales_monthly\",\n",
    "  target_col=\"sales_amount\", \n",
    "  identity_col=[\"product_id\", \"store_id\"], \n",
    "  time_col=\"month\",\n",
    "  frequency=\"month\",\n",
    "  horizon=6, \n",
    "  country_code=\"BR\", \n",
    "  primary_metric=\"smape\",\n",
    "  experiment_dir=experiment_dir,\n",
    "  # output_database=db, #OBS: o AutoML pode gravar as previsões em uma tabela automaticamente, porém não teremos essa permisão durante o workshop\n",
    "  timeout_minutes=10\n",
    ")"
   ]
  },
  {
   "cell_type": "markdown",
   "metadata": {
    "application/vnd.databricks.v1+cell": {
     "cellMetadata": {
      "byteLimit": 2048000,
      "rowLimit": 10000
     },
     "inputWidgets": {},
     "nuid": "fad038bb-d18a-456d-8533-c0973182f52a",
     "showTitle": false,
     "tableResultSettingsMap": {},
     "title": ""
    }
   },
   "source": [
    "Assim que o experimento for iniciado, no output da célula acima, deverá aparecer o link para acessá-lo. Dentro do experimento, novamente, teremos todas as informações sobre este modelo, como:\n",
    "- Hiper-parâmetros utilizados\n",
    "- Métricas de performance\n",
    "- Notebooks de exploração e do melhor modelo\n",
    "- Tabela de inferência (somente para experimentos de previsão)\n",
    "\n",
    "Agora, vamos explorar essas informações!"
   ]
  },
  {
   "cell_type": "markdown",
   "metadata": {
    "application/vnd.databricks.v1+cell": {
     "cellMetadata": {},
     "inputWidgets": {},
     "nuid": "84e91e24-d420-4422-b81c-5f1c670467f9",
     "showTitle": false,
     "tableResultSettingsMap": {},
     "title": ""
    }
   },
   "source": [
    "## Exercício 03.03 - Analisando o notebook de exploração\n",
    "\n",
    "Vamos começar pelo notebook de exploração! Siga os passos abaixo:\n",
    "- Abra o experimento utilizando o link gerado na célula acima\n",
    "- Clique em **View data exploration notebook**\n",
    "- Em **Time column Analysis**, analise os períodos disponíveis para cada loja / produto\n",
    "- Em **Target Value Analysis**, analise:\n",
    "  - A distribuição dos valores de vendas para cada loja / produto\n",
    "  - A existência de nulos nos valores de vendas"
   ]
  },
  {
   "cell_type": "markdown",
   "metadata": {
    "application/vnd.databricks.v1+cell": {
     "cellMetadata": {},
     "inputWidgets": {},
     "nuid": "71ce67a8-5802-4650-9f30-67bcac32f5bb",
     "showTitle": false,
     "tableResultSettingsMap": {},
     "title": ""
    }
   },
   "source": [
    "## Exercício 03.04 - Avaliando os modelos\n",
    "\n",
    "- Abra o experimento novamente\n",
    "- Clique no **ícone do gráfico**\n",
    "- Caso necessário, clique no **ícone do olho** e selecione **Show all runs**\n",
    "- Avalie a performance dos modelos\n",
    "  - São criados automaticamente gráficos para diversas métricas de performance (MDAPE, MAE, MAPE, SMAPE, entre outras) na base de validação (val)\n",
    "\n",
    "Estes gráficos nos permitem comparar a performance dos modelos em dados que o modelo não havia visto durante o seu treinamento. Isso nos permite entender se o modelo está **generalizando** bem, ou seja, se ele é capaz de reproduzir sua performance do treinamento no mundo real. Vamos buscar o modelo que possuem a maior performance – lembrando que a maioria das métricas disponíveis (incluindo o SMAPE que definimos como principal) medem o erro do modelo, ou seja, quanto menor, melhor."
   ]
  },
  {
   "cell_type": "markdown",
   "metadata": {
    "application/vnd.databricks.v1+cell": {
     "cellMetadata": {},
     "inputWidgets": {},
     "nuid": "04434996-4982-46e5-bac7-1337f228ac25",
     "showTitle": false,
     "tableResultSettingsMap": {},
     "title": ""
    }
   },
   "source": [
    "## Exercício 03.05 - Visualizando o melhor modelo\n",
    "\n",
    "- No gráfico, clique no ponto que representa o melhor modelo\n",
    "- No cartão, clique no nome do modelo\n",
    "\n",
    "Veja que todas as informações do modelo se encontram disponíveis, desde os parâmetros utilizados  e métricas de performance nas diversas bases, até o notebook criado pelo **AutoML** para treinar o modelo e artefatos gerados. Isso garante máxima transparência ao processo e permite com que vocês façam alterações adicionais, caso desejem.\n",
    "\n",
    "Adicionalmente, siga os passos abaixo:\n",
    "\n",
    "- Na tela do exeperimento, clique na aba **Artifacts** para visualizar as especificações do modelo, binários, dependências e outros artefatos necessários para a sua execução em produção\n",
    "- Clique no notebook disponível em **Source** para visualizar o código\n",
    "  - *Alternativamente, no menu do AutoML, clique em **View notebook for best model***\n",
    "\n",
    "**Observação**:\n",
    "- Alguns artefatos são gerados apenas para o modelo campeão"
   ]
  },
  {
   "cell_type": "markdown",
   "metadata": {
    "application/vnd.databricks.v1+cell": {
     "cellMetadata": {},
     "inputWidgets": {},
     "nuid": "0a7efc0b-e568-4356-8008-7be3ead99995",
     "showTitle": false,
     "tableResultSettingsMap": {},
     "title": ""
    }
   },
   "source": [
    "**Parabéns!**\n",
    "\n",
    "Você concluiu o laboratório de utilização da API Python do Databricks AutoML. Com isso, você poderá modularizar e automatizar processos de forma muito simples, além de poder escalar o treinamento de modelos para diversos segmentos para melhorar ainda mais as suas performances!"
   ]
  }
 ],
 "metadata": {
  "application/vnd.databricks.v1+notebook": {
   "computePreferences": null,
   "dashboards": [],
   "environmentMetadata": {
    "base_environment": "dbe_f14fbde8-5353-4144-89be-f0a3e93fffc9",
    "environment_version": "2"
   },
   "inputWidgetPreferences": null,
   "language": "python",
   "notebookMetadata": {
    "mostRecentlyExecutedCommandWithImplicitDF": {
     "commandId": 8994656465132653,
     "dataframes": [
      "_sqldf"
     ]
    },
    "pythonIndentUnit": 2
   },
   "notebookName": "Lab 03 - Usando o AutoML através do Python",
   "widgets": {}
  },
  "language_info": {
   "name": "python"
  }
 },
 "nbformat": 4,
 "nbformat_minor": 0
}
