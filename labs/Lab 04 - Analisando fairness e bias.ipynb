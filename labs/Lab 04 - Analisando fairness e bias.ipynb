{
 "cells": [
  {
   "cell_type": "markdown",
   "metadata": {
    "application/vnd.databricks.v1+cell": {
     "cellMetadata": {},
     "inputWidgets": {},
     "nuid": "c1b266c3-f261-4d2d-9bbe-efbf5d8cdd5e",
     "showTitle": false,
     "tableResultSettingsMap": {},
     "title": ""
    }
   },
   "source": [
    "![](https://github.com/vorodrigues/databricks-automl-lab/blob/main/img/header-automl.png?raw=true)"
   ]
  },
  {
   "cell_type": "markdown",
   "metadata": {
    "application/vnd.databricks.v1+cell": {
     "cellMetadata": {},
     "inputWidgets": {},
     "nuid": "d9f2b396-4173-46e2-89d5-e62fd2b21d9f",
     "showTitle": false,
     "tableResultSettingsMap": {},
     "title": ""
    }
   },
   "source": [
    "# Lab 04 - Analisando fairness e bias"
   ]
  },
  {
   "cell_type": "markdown",
   "metadata": {
    "application/vnd.databricks.v1+cell": {
     "cellMetadata": {},
     "inputWidgets": {},
     "nuid": "5d9c9cd1-10e8-42f1-a390-34ec7dfbb0eb",
     "showTitle": false,
     "tableResultSettingsMap": {},
     "title": ""
    }
   },
   "source": [
    "## Exercício 04.01 - Visualização dos Dados\n",
    "\n",
    "Nesse laboratório, vamos trabalhar com uma tabela:\n",
    "- **fraud_predictions:** dados usados para o treinamento do modelo de classificação de fraude + predições + observado\n",
    "\n",
    "Vamos ver como são esses dados!"
   ]
  },
  {
   "cell_type": "markdown",
   "metadata": {
    "application/vnd.databricks.v1+cell": {
     "cellMetadata": {},
     "inputWidgets": {},
     "nuid": "8fdbb3bb-fd03-4412-8190-d13a28d064bb",
     "showTitle": false,
     "tableResultSettingsMap": {},
     "title": ""
    }
   },
   "source": [
    "Antes de tudo, vamos selecionar nosso banco de dados.\n",
    "\n",
    "Preencha o valor da variável `db` e execute a célula abaixo."
   ]
  },
  {
   "cell_type": "code",
   "execution_count": 0,
   "metadata": {
    "application/vnd.databricks.v1+cell": {
     "cellMetadata": {
      "byteLimit": 2048000,
      "rowLimit": 10000
     },
     "inputWidgets": {},
     "nuid": "4233cf3f-b922-4ecd-be39-e90ca684694c",
     "showTitle": false,
     "tableResultSettingsMap": {},
     "title": ""
    }
   },
   "outputs": [],
   "source": [
    "# TODO: Preencha o caminho do seu database abaixo\n",
    "db = 'meu_catalogo.meu_database'\n",
    "spark.sql(f'USE {db}')"
   ]
  },
  {
   "cell_type": "code",
   "execution_count": 0,
   "metadata": {
    "application/vnd.databricks.v1+cell": {
     "cellMetadata": {
      "byteLimit": 2048000,
      "implicitDf": true,
      "rowLimit": 10000
     },
     "inputWidgets": {},
     "nuid": "ef00e085-babc-49a0-9128-eb92550b245a",
     "showTitle": false,
     "tableResultSettingsMap": {},
     "title": ""
    }
   },
   "outputs": [],
   "source": [
    "%sql select * from fraud_predictions"
   ]
  },
  {
   "cell_type": "markdown",
   "metadata": {
    "application/vnd.databricks.v1+cell": {
     "cellMetadata": {},
     "inputWidgets": {},
     "nuid": "d58afcc9-eb3c-4952-80b1-94aa3c986ffb",
     "showTitle": false,
     "tableResultSettingsMap": {},
     "title": ""
    }
   },
   "source": [
    "## Exercício 04.02 - Criação do monitor de qualidade de dados e modelos\n",
    "\n",
    "Agora que temos nosso modelo pronto, podemos avaliar o quão justo este modelo é com relação às nossas classes de interesse. Por exemplo, será que ao utilizar uma variável como o CEP estamos prejudicando algum grupo de indivíduos?\n",
    "\n",
    "Para identificar esse tipo de situação, iremos utilizar o **Lakehouse Monitoring** para calcular métricas como:\n",
    "- Fairness\n",
    "- Bias\n",
    "\n",
    "Siga os passos abaixo:\n",
    "- No menu principal, clique em **Catalog**\n",
    "- Encontre a tabela **fraud_predictions**\n",
    "- Clique em **Quality**, na parte central da tela\n",
    "- Na seção **Data profiling**, clique em **Get started**\n",
    "- Configure o monitor:\n",
    "  - Na seção **Profiling**:\n",
    "    - **Profile type**: Inference\n",
    "    - **Problem type**: classification\n",
    "    - **Prediction column**: predictions\n",
    "    - **Label column (optional)**: fraud_report\n",
    "    - **Metric granularities**: 1 day\n",
    "  - Na seção **Advanced options**:\n",
    "    - **Schedule**: Refresh manually\n",
    "    - **Metric slicing expressions (optional)**: bank"
   ]
  },
  {
   "cell_type": "markdown",
   "metadata": {
    "application/vnd.databricks.v1+cell": {
     "cellMetadata": {},
     "inputWidgets": {},
     "nuid": "e2bfbbcd-0c4a-4916-9736-65aba5430ae6",
     "showTitle": false,
     "tableResultSettingsMap": {},
     "title": ""
    }
   },
   "source": [
    "## Exercício 04.03 - Analisando as métricas de fairness e bias"
   ]
  },
  {
   "cell_type": "markdown",
   "metadata": {
    "application/vnd.databricks.v1+cell": {
     "cellMetadata": {},
     "inputWidgets": {},
     "nuid": "0a7efc0b-e568-4356-8008-7be3ead99995",
     "showTitle": false,
     "tableResultSettingsMap": {},
     "title": ""
    }
   },
   "source": [
    "**Parabéns!**\n",
    "\n",
    "Você concluiu o laboratório de utilização responsável de IA. Com isso, você poderá analisar o quão justos seus modelos são antes de colocá-los em produção e cumprir seus requisitos de ESG e compliance!"
   ]
  }
 ],
 "metadata": {
  "application/vnd.databricks.v1+notebook": {
   "computePreferences": null,
   "dashboards": [],
   "environmentMetadata": {
    "base_environment": "dbe_f14fbde8-5353-4144-89be-f0a3e93fffc9",
    "environment_version": "2"
   },
   "inputWidgetPreferences": null,
   "language": "python",
   "notebookMetadata": {
    "mostRecentlyExecutedCommandWithImplicitDF": {
     "commandId": 8994656465132653,
     "dataframes": [
      "_sqldf"
     ]
    },
    "pythonIndentUnit": 2
   },
   "notebookName": "Lab 04 - Analisando fairness e bias",
   "widgets": {}
  },
  "language_info": {
   "name": "python"
  }
 },
 "nbformat": 4,
 "nbformat_minor": 0
}
