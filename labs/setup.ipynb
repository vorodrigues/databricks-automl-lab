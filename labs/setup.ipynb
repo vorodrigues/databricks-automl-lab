{
 "cells": [
  {
   "cell_type": "code",
   "execution_count": 0,
   "metadata": {
    "application/vnd.databricks.v1+cell": {
     "cellMetadata": {},
     "inputWidgets": {},
     "nuid": "e8246054-ee0d-4b4e-aa43-c4cc2d4c8407",
     "showTitle": false,
     "tableResultSettingsMap": {},
     "title": ""
    }
   },
   "outputs": [],
   "source": [
    "from pyspark.sql import functions as F\n",
    "\n",
    "# Read the table\n",
    "df_fraud_abt = spark.table(\"vr_demo.fraud.fraud_abt\")\n",
    "\n",
    "# Balance the sample by the column fraud_report with 10000 records\n",
    "fraud_count = df_fraud_abt.filter(F.col('fraud_report') == 'Y').count()\n",
    "non_fraud_count = df_fraud_abt.filter(F.col('fraud_report') == 'N').count()\n",
    "\n",
    "fraud_sample_size = int(10000 * (fraud_count / (fraud_count + non_fraud_count)))\n",
    "non_fraud_sample_size = 10000 - fraud_sample_size\n",
    "\n",
    "fraud_sample = df_fraud_abt.filter(F.col('fraud_report') == 'Y').sample(False, fraud_sample_size / fraud_count)\n",
    "non_fraud_sample = df_fraud_abt.filter(F.col('fraud_report') == 'N').sample(False, non_fraud_sample_size / non_fraud_count)\n",
    "\n",
    "balanced_sample = fraud_sample.union(non_fraud_sample)\n",
    "\n",
    "balanced_sample.write.mode('overwrite').saveAsTable(\"vr_demo.fraud.fraud_abt_sample\")"
   ]
  },
  {
   "cell_type": "code",
   "execution_count": 0,
   "metadata": {
    "application/vnd.databricks.v1+cell": {
     "cellMetadata": {},
     "inputWidgets": {},
     "nuid": "e5142bbb-3782-496c-9e88-c1d14f7cacc9",
     "showTitle": false,
     "tableResultSettingsMap": {},
     "title": ""
    }
   },
   "outputs": [],
   "source": [
    "%sql\n",
    "create table vr_demo.fraud.fraud_abt_sample2 as \n",
    "select\n",
    "  * except (fraud_report),\n",
    "  case when fraud_report = 'Y' then 1 else 0 end as fraud_report\n",
    "from vr_demo.fraud.fraud_abt_sample"
   ]
  }
 ],
 "metadata": {
  "application/vnd.databricks.v1+notebook": {
   "computePreferences": null,
   "dashboards": [],
   "environmentMetadata": {
    "base_environment": "",
    "environment_version": "2"
   },
   "inputWidgetPreferences": null,
   "language": "python",
   "notebookMetadata": {
    "pythonIndentUnit": 2
   },
   "notebookName": "setup",
   "widgets": {}
  },
  "language_info": {
   "name": "python"
  }
 },
 "nbformat": 4,
 "nbformat_minor": 0
}
