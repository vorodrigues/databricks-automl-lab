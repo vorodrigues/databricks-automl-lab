{
 "cells": [
  {
   "cell_type": "code",
   "execution_count": 0,
   "metadata": {
    "application/vnd.databricks.v1+cell": {
     "cellMetadata": {},
     "inputWidgets": {},
     "nuid": "e8246054-ee0d-4b4e-aa43-c4cc2d4c8407",
     "showTitle": false,
     "tableResultSettingsMap": {},
     "title": ""
    }
   },
   "outputs": [],
   "source": [
    "from pyspark.sql import functions as F\n",
    "\n",
    "# Read the table\n",
    "df_fraud_abt = spark.table(\"vr_demo.fraud.fraud_abt\")\n",
    "\n",
    "# Balance the sample by the column fraud_report with 10000 records\n",
    "fraud_count = df_fraud_abt.filter(F.col('fraud_report') == 'Y').count()\n",
    "non_fraud_count = df_fraud_abt.filter(F.col('fraud_report') == 'N').count()\n",
    "\n",
    "fraud_sample_size = int(10000 * (fraud_count / (fraud_count + non_fraud_count)))\n",
    "non_fraud_sample_size = 10000 - fraud_sample_size\n",
    "\n",
    "fraud_sample = df_fraud_abt.filter(F.col('fraud_report') == 'Y').sample(False, fraud_sample_size / fraud_count)\n",
    "non_fraud_sample = df_fraud_abt.filter(F.col('fraud_report') == 'N').sample(False, non_fraud_sample_size / non_fraud_count)\n",
    "\n",
    "balanced_sample = fraud_sample.union(non_fraud_sample)\n",
    "\n",
    "balanced_sample.write.mode('overwrite').saveAsTable(\"vr_demo.fraud.fraud_abt_sample\")"
   ]
  },
  {
   "cell_type": "code",
   "execution_count": 0,
   "metadata": {
    "application/vnd.databricks.v1+cell": {
     "cellMetadata": {},
     "inputWidgets": {},
     "nuid": "e5142bbb-3782-496c-9e88-c1d14f7cacc9",
     "showTitle": false,
     "tableResultSettingsMap": {},
     "title": ""
    }
   },
   "outputs": [],
   "source": [
    "%sql\n",
    "create table vr_demo.fraud.fraud_abt_sample2 as \n",
    "select\n",
    "  * except (fraud_report),\n",
    "  case when fraud_report = 'Y' then 1 else 0 end as fraud_report\n",
    "from vr_demo.fraud.fraud_abt_sample"
   ]
  },
  {
   "cell_type": "markdown",
   "metadata": {
    "application/vnd.databricks.v1+cell": {
     "cellMetadata": {},
     "inputWidgets": {},
     "nuid": "b3208aa2-a46b-4464-9466-233c3c178861",
     "showTitle": false,
     "tableResultSettingsMap": {},
     "title": ""
    }
   },
   "source": [
    "# V2"
   ]
  },
  {
   "cell_type": "code",
   "execution_count": 0,
   "metadata": {
    "application/vnd.databricks.v1+cell": {
     "cellMetadata": {
      "byteLimit": 2048000,
      "implicitDf": true,
      "rowLimit": 10000
     },
     "inputWidgets": {},
     "nuid": "5c430d5d-87f5-4862-a2d1-ac5c4b58d3c7",
     "showTitle": false,
     "tableResultSettingsMap": {},
     "title": ""
    }
   },
   "outputs": [],
   "source": [
    "%sql\n",
    "create database vr_demo.fraud2"
   ]
  },
  {
   "cell_type": "code",
   "execution_count": 0,
   "metadata": {
    "application/vnd.databricks.v1+cell": {
     "cellMetadata": {
      "byteLimit": 2048000,
      "rowLimit": 10000
     },
     "inputWidgets": {},
     "nuid": "d2f72a9e-4d9d-4fdd-910d-14ead7fb76e3",
     "showTitle": false,
     "tableResultSettingsMap": {},
     "title": ""
    }
   },
   "outputs": [],
   "source": [
    "from pyspark.sql import functions as F\n",
    "\n",
    "# Read the table\n",
    "df_fraud_abt = spark.table(\"vr_demo.fraud.visits\")\n",
    "\n",
    "# Balance the sample by the column fraud_report with 10000 records\n",
    "fraud_count = df_fraud_abt.filter(F.col('fraud_report') == 'Y').count()\n",
    "non_fraud_count = df_fraud_abt.filter(F.col('fraud_report') == 'N').count()\n",
    "\n",
    "fraud_sample_size = int(10000 * (fraud_count / (fraud_count + non_fraud_count)))\n",
    "non_fraud_sample_size = 10000 - fraud_sample_size\n",
    "\n",
    "fraud_sample = df_fraud_abt.filter(F.col('fraud_report') == 'Y').sample(False, fraud_sample_size / fraud_count)\n",
    "non_fraud_sample = df_fraud_abt.filter(F.col('fraud_report') == 'N').sample(False, non_fraud_sample_size / non_fraud_count)\n",
    "\n",
    "balanced_sample = fraud_sample.union(non_fraud_sample)\n",
    "\n",
    "balanced_sample.write.mode('overwrite').saveAsTable(\"vr_demo.fraud2.visits\")"
   ]
  },
  {
   "cell_type": "code",
   "execution_count": 0,
   "metadata": {
    "application/vnd.databricks.v1+cell": {
     "cellMetadata": {
      "byteLimit": 2048000,
      "implicitDf": true,
      "rowLimit": 10000
     },
     "inputWidgets": {},
     "nuid": "c81f4ad2-7439-429b-b058-243184600dfe",
     "showTitle": false,
     "tableResultSettingsMap": {},
     "title": ""
    }
   },
   "outputs": [],
   "source": [
    "%sql\n",
    "create table vr_demo.fraud2.customers as\n",
    "select c.* from vr_demo.fraud.customers c\n",
    "inner join vr_demo.fraud2.visits v\n",
    "on c.customer_id = v.customer_id"
   ]
  },
  {
   "cell_type": "code",
   "execution_count": 0,
   "metadata": {
    "application/vnd.databricks.v1+cell": {
     "cellMetadata": {
      "byteLimit": 2048000,
      "implicitDf": true,
      "rowLimit": 10000
     },
     "inputWidgets": {},
     "nuid": "1acc2008-8c9d-4976-b420-321c68e99b2e",
     "showTitle": false,
     "tableResultSettingsMap": {},
     "title": ""
    }
   },
   "outputs": [],
   "source": [
    "%sql\n",
    "create table vr_demo.fraud2.locations as\n",
    "select c.* from vr_demo.fraud.locations c\n",
    "inner join vr_demo.fraud2.visits v\n",
    "on c.atm_id = v.atm_id"
   ]
  },
  {
   "cell_type": "code",
   "execution_count": 0,
   "metadata": {
    "application/vnd.databricks.v1+cell": {
     "cellMetadata": {
      "byteLimit": 2048000,
      "implicitDf": true,
      "rowLimit": 10000
     },
     "inputWidgets": {},
     "nuid": "d52ec2aa-1e80-47d0-983f-ccdc85b4a4c0",
     "showTitle": false,
     "tableResultSettingsMap": {},
     "title": ""
    }
   },
   "outputs": [],
   "source": [
    "%sql\n",
    "create volume vr_demo.fraud2.export"
   ]
  },
  {
   "cell_type": "code",
   "execution_count": 0,
   "metadata": {
    "application/vnd.databricks.v1+cell": {
     "cellMetadata": {
      "byteLimit": 2048000,
      "rowLimit": 10000
     },
     "inputWidgets": {},
     "nuid": "312644ea-e4ec-4131-92d6-1ab9ad19ddab",
     "showTitle": false,
     "tableResultSettingsMap": {},
     "title": ""
    }
   },
   "outputs": [],
   "source": [
    "spark.table('vr_demo.fraud2.visits').repartition(1).write.format('parquet').save('/Volumes/vr_demo/fraud2/export/visits')"
   ]
  },
  {
   "cell_type": "code",
   "execution_count": 0,
   "metadata": {
    "application/vnd.databricks.v1+cell": {
     "cellMetadata": {
      "byteLimit": 2048000,
      "rowLimit": 10000
     },
     "inputWidgets": {},
     "nuid": "a69e8552-24b5-4b29-80d1-d3e12f34738d",
     "showTitle": false,
     "tableResultSettingsMap": {},
     "title": ""
    }
   },
   "outputs": [],
   "source": [
    "spark.table('vr_demo.fraud2.customers').repartition(1).write.format('parquet').save('/Volumes/vr_demo/fraud2/export/customers')"
   ]
  },
  {
   "cell_type": "code",
   "execution_count": 0,
   "metadata": {
    "application/vnd.databricks.v1+cell": {
     "cellMetadata": {
      "byteLimit": 2048000,
      "rowLimit": 10000
     },
     "inputWidgets": {},
     "nuid": "a3ffb2ac-ebc3-4669-a90b-0cb0312691f0",
     "showTitle": false,
     "tableResultSettingsMap": {},
     "title": ""
    }
   },
   "outputs": [],
   "source": [
    "spark.table('vr_demo.fraud2.locations').repartition(1).write.format('parquet').save('/Volumes/vr_demo/fraud2/export/locations')"
   ]
  }
 ],
 "metadata": {
  "application/vnd.databricks.v1+notebook": {
   "computePreferences": null,
   "dashboards": [],
   "environmentMetadata": {
    "base_environment": "",
    "environment_version": "2"
   },
   "inputWidgetPreferences": null,
   "language": "python",
   "notebookMetadata": {
    "mostRecentlyExecutedCommandWithImplicitDF": {
     "commandId": 2408509664648654,
     "dataframes": [
      "_sqldf"
     ]
    },
    "pythonIndentUnit": 2
   },
   "notebookName": "setup",
   "widgets": {}
  },
  "language_info": {
   "name": "python"
  }
 },
 "nbformat": 4,
 "nbformat_minor": 0
}
