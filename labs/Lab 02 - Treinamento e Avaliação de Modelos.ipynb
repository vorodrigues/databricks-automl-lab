{
 "cells": [
  {
   "cell_type": "markdown",
   "metadata": {
    "application/vnd.databricks.v1+cell": {
     "cellMetadata": {},
     "inputWidgets": {},
     "nuid": "1abf9508-e1c8-44b3-9855-94bf5e5b52ce",
     "showTitle": false,
     "tableResultSettingsMap": {},
     "title": ""
    }
   },
   "source": [
    "![](https://github.com/vorodrigues/databricks-automl-lab/blob/main/img/header-automl.png?raw=true)"
   ]
  },
  {
   "cell_type": "markdown",
   "metadata": {
    "application/vnd.databricks.v1+cell": {
     "cellMetadata": {},
     "inputWidgets": {},
     "nuid": "f4c20fc3-9705-4d13-8115-f9717f88570a",
     "showTitle": false,
     "tableResultSettingsMap": {},
     "title": ""
    }
   },
   "source": [
    "# Lab 02 - Treinamento e Avaliação de Modelos"
   ]
  },
  {
   "cell_type": "markdown",
   "metadata": {
    "application/vnd.databricks.v1+cell": {
     "cellMetadata": {},
     "inputWidgets": {},
     "nuid": "1bef20fa-4d25-4850-a03c-d714405f5faa",
     "showTitle": false,
     "tableResultSettingsMap": {},
     "title": ""
    }
   },
   "source": [
    "## Exercício 02.01 - Treinamento de Modelos com AutoML\n",
    "\n",
    "Após explorar e preparar nossos dados estamos prontos para começar a treinar nossos modelos usando o **AutoML**.\n",
    "\n",
    "Para isso, vamos criar nosso experimento!\n",
    "\n",
    "Siga os passos abaixo:\n",
    "\n",
    "- No menu principal, selecione **Experiments**\n",
    "- No cartão **Classification**, clique em **Start training**\n",
    "- Em **Cluster**, selecione o seu cluster\n",
    "- Em **Input training dataset**, clique em **Browse** e selecione a tabela **fraud_abt**\n",
    "- Em **Prediction target**, selecione **fraud_report**\n",
    "- Clique em **Advanced Configuration**\n",
    "- Em **Positive label**, digite Y\n",
    "- Clique em **Start AutoML**"
   ]
  },
  {
   "cell_type": "code",
   "execution_count": 0,
   "metadata": {
    "application/vnd.databricks.v1+cell": {
     "cellMetadata": {},
     "inputWidgets": {},
     "nuid": "39aa8d98-6f07-4cfa-a802-ff7493ea8f9b",
     "showTitle": false,
     "tableResultSettingsMap": {},
     "title": ""
    }
   },
   "outputs": [],
   "source": []
  }
 ],
 "metadata": {
  "application/vnd.databricks.v1+notebook": {
   "computePreferences": null,
   "dashboards": [],
   "environmentMetadata": {
    "base_environment": "",
    "environment_version": "2"
   },
   "inputWidgetPreferences": null,
   "language": "python",
   "notebookMetadata": {
    "pythonIndentUnit": 2
   },
   "notebookName": "Lab 02 - Treinamento e Avaliação de Modelos",
   "widgets": {}
  },
  "language_info": {
   "name": "python"
  }
 },
 "nbformat": 4,
 "nbformat_minor": 0
}
